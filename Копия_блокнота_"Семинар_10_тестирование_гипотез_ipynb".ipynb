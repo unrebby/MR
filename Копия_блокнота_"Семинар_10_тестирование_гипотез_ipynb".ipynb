{
  "cells": [
    {
      "cell_type": "markdown",
      "metadata": {
        "id": "view-in-github",
        "colab_type": "text"
      },
      "source": [
        "<a href=\"https://colab.research.google.com/github/unrebby/MR/blob/main/%D0%9A%D0%BE%D0%BF%D0%B8%D1%8F_%D0%B1%D0%BB%D0%BE%D0%BA%D0%BD%D0%BE%D1%82%D0%B0_%22%D0%A1%D0%B5%D0%BC%D0%B8%D0%BD%D0%B0%D1%80_10_%D1%82%D0%B5%D1%81%D1%82%D0%B8%D1%80%D0%BE%D0%B2%D0%B0%D0%BD%D0%B8%D0%B5_%D0%B3%D0%B8%D0%BF%D0%BE%D1%82%D0%B5%D0%B7_ipynb%22.ipynb\" target=\"_parent\"><img src=\"https://colab.research.google.com/assets/colab-badge.svg\" alt=\"Open In Colab\"/></a>"
      ]
    },
    {
      "cell_type": "markdown",
      "metadata": {
        "id": "UkXf9fyatJhc"
      },
      "source": [
        "# Проверка гипотез: непараметрические критерии"
      ]
    },
    {
      "cell_type": "markdown",
      "metadata": {
        "id": "7ViK9OjJXOPL"
      },
      "source": [
        "План на сегодняшний семинар:\n",
        "\n",
        "* Повторить суть непараметрического оценивания\n",
        "* Таблица сопряженности и хи-квадрат"
      ]
    },
    {
      "cell_type": "markdown",
      "metadata": {
        "id": "A8aIo3KuNUBx"
      },
      "source": [
        "Непараметрические критерии могут быть применены для порядковых и номинальных признаков, а также они не нуждаются в предположениях о параметрах генеральной совокупности или форме ее распределения"
      ]
    },
    {
      "cell_type": "code",
      "execution_count": null,
      "metadata": {
        "id": "uvJRt8fgRtEo"
      },
      "outputs": [],
      "source": [
        "#подгружаем все необходимые библиотеки\n",
        "import numpy as np\n",
        "import pandas as pd\n",
        "import statsmodels as sm\n",
        "from scipy import stats"
      ]
    },
    {
      "cell_type": "markdown",
      "metadata": {
        "id": "IjAkNPzMG4lB"
      },
      "source": [
        "## Критерий согласия хи-квадрат"
      ]
    },
    {
      "cell_type": "markdown",
      "metadata": {
        "id": "L0Aq_g7rOOfS"
      },
      "source": [
        "При анализе данных у нас может возникать вопрос о том, как наши наблюдения распределены по каким-то категориям. Например, на сколько больше студентов на коммерции по сравнению с бюджетниками на двух разных факультетах? Или как соотносятся пропорции сдавших и несдавших экзамен по Python в разных группах?\n",
        "При такой постановке вопроса нас не интересуют какие-то количественные характеристики для конкретного объекта или выборки в целом: нас интересует только принадлежность объекта к той или иной группе. И в таком случае, когда нас в первую очередь интересует соотношение пропорций в генеральной совокупности, мы будем использовать критерий согласия хи-квадрат."
      ]
    },
    {
      "cell_type": "markdown",
      "metadata": {
        "id": "nPEN4uy1QTs2"
      },
      "source": [
        "Данный критерий реализован с помощью функции chisquare в модуле stats:\n",
        "    \n",
        "* **stats.chisquare(obs, exp)** \n",
        "\n",
        "В эту функцию мы передаем два аргумента:\n",
        "\n",
        "* obs — фактическая частота попадания в ту или иную подгруппу\n",
        "* exp — ожидаемая частота."
      ]
    },
    {
      "cell_type": "markdown",
      "metadata": {
        "id": "tokFTPtyQ090"
      },
      "source": [
        "Возможно, вы знакомы с Менделем и его экспериментами с селекцией гороха: эта история отлично подойдет для иллюстрации применения критерия согласия хи-квадрат. \n",
        "\n",
        "Краткий экскурс в тему: Мендель вывел теоретический закон распределения частот видов семян, и в 20-м веке было огромное количество исследований, которые основывались на проверке близости этого закона к реальной жизни как раз с помощью критерия согласия хи-квадрата. История была столь популярна, что на ее тему написал статьи даже известный математик - академик Колмогоров.\n",
        "\n",
        "Давайте и мы проверим, что там происходило с горохом!"
      ]
    },
    {
      "cell_type": "markdown",
      "metadata": {
        "id": "jDeEC-z9P4i_"
      },
      "source": [
        "В экспериментах с селекцией гороха Мендель наблюдал частоты различных видов семян, получаемых при скрещивании растений с круглыми желтыми семенами и растений с морщинистыми зелеными семенами. Эти данные и значения теоретических вероятностей, определяемые в соответствии с законом Менделя, приведены в следующей таблице:\n",
        "\n",
        "| Тип семян            | Частота | Вероятность |\n",
        "|:-------------------- |:-------:| -----------:|\n",
        "| Круглые и желтые     | 315/556 | 9/16        |\n",
        "| Морщинистые и желтые | 101/556 | 3/16        |\n",
        "| Круглые и зеленые    | 108/556 | 3/16        |\n",
        "| Морщинистые и зеленые| 32/556  | 1/16        |\n",
        "\n",
        "Необходимо проверить гипотезу $H_0$ о согласованности частот с теоретическими вероятностями при помощи критерия хи-квадрат."
      ]
    },
    {
      "cell_type": "code",
      "execution_count": null,
      "metadata": {
        "id": "AE0LTU5VQIw1"
      },
      "outputs": [],
      "source": [
        "# создаем массивы с реальными частотами (точнее, долями) и с теоретическими вероятностями\n",
        "obs = np.array([315/556, 101/556, 108/556, 32/556]) #реальные доли - левый столбец в таблице\n",
        "exp = np.array([9/16, 3/16, 3/16, 1/16]) #теоретические вероятности - правый столбец в таблице"
      ]
    },
    {
      "cell_type": "markdown",
      "metadata": {
        "id": "K0uCV8pXS5Ea"
      },
      "source": [
        "Ранее мы посмотрели, что в функцию для реализации критерия согласия мы передаем фактические частоты, а у нас только доли. Чтобы получить из них частоты, мы умножим каждую долю на общее количество семян:"
      ]
    },
    {
      "cell_type": "code",
      "execution_count": null,
      "metadata": {
        "id": "UPQvT8mtQLAD"
      },
      "outputs": [],
      "source": [
        "obs = obs*556 #рассчитали реальные частоты\n",
        "exp = exp*556 #рассчитали ожидаемые частоты"
      ]
    },
    {
      "cell_type": "code",
      "execution_count": null,
      "metadata": {
        "id": "oKxDXtUyQM2j",
        "outputId": "ad5f387b-05fa-4626-8ca4-8825add22eff"
      },
      "outputs": [
        {
          "data": {
            "text/plain": [
              "Power_divergenceResult(statistic=0.4700239808153487, pvalue=0.9254258951036157)"
            ]
          },
          "execution_count": 29,
          "metadata": {},
          "output_type": "execute_result"
        }
      ],
      "source": [
        "# запускаем функцию для критерия хи-квадрат\n",
        "stats.chisquare(obs, exp) "
      ]
    },
    {
      "cell_type": "markdown",
      "metadata": {
        "id": "DW3qSXAMTclc"
      },
      "source": [
        "Мы видим, что у нас получилось очень большое значение p-value: оно свидетельствует о том, что мы не отвергаем нулевую гипотезу. Значит, закон Менделя работает!"
      ]
    },
    {
      "cell_type": "markdown",
      "metadata": {
        "id": "9TYL3R1QUcfj"
      },
      "source": [
        "## Задача 1"
      ]
    },
    {
      "cell_type": "markdown",
      "metadata": {
        "id": "bzIREq1LVPk7"
      },
      "source": [
        "У некоторого преподавателя НИУ ВШЭ есть предположение, что 25% студентов сдают ДЗ заранее, 60% в последний момент, а 15% вовсе забывают о домашнем задании. После первого ДЗ на курсе  было выявлено, что из 330 студентов 60 сдали ДЗ заранее, 200 в последний момент, а 70 - вовсе забыли о ДЗ. Проверьте гипотезу о том, что предположение преподавателя о теоретическом распределении вероятностей верное."
      ]
    },
    {
      "cell_type": "code",
      "execution_count": null,
      "metadata": {
        "id": "e5yWfGDRVRUG",
        "outputId": "6a901321-2484-4aa9-8b62-4dbbd4af7a9a"
      },
      "outputs": [
        {
          "data": {
            "text/plain": [
              "Power_divergenceResult(statistic=14.646464646464647, pvalue=0.0006600253442961802)"
            ]
          },
          "execution_count": 30,
          "metadata": {},
          "output_type": "execute_result"
        }
      ],
      "source": [
        "#YOUR CODE\n",
        "obs = np.array([60, 200, 70])\n",
        "exp = np.array([0.25*330, 0.6*330, 0.15*330])\n",
        "\n",
        "stats.chisquare(obs, exp)"
      ]
    },
    {
      "cell_type": "markdown",
      "metadata": {
        "id": "zZ2yvk8pT8HN"
      },
      "source": [
        "# Критерий независимости хи-квадрат Пирсона (критерий независимости номинальных признаков Пирсона)"
      ]
    },
    {
      "cell_type": "markdown",
      "metadata": {
        "id": "4R-X063ZVWCm"
      },
      "source": [
        "Еще один критерий - критерий независимости хи-квадрат Пирсона - нужен нам для того, чтобы проверять наличие взаимосвязи между двумя признаками."
      ]
    },
    {
      "cell_type": "markdown",
      "metadata": {
        "id": "pkoPKKkkY-9N"
      },
      "source": [
        "Пусть у нас есть пациенты, которых проверяли на предмет наличия сердечных заболеваний. И мы хотим проверить, есть ли взаимосвязь у пола пациента и наличия у него заболевания. Нулевая гипотеза заключается в том, что признаки независимы.\n",
        "* Пол записан в признаке sex (1-мужчины, 0-женщины)\n",
        "* Наличие заболевания записано в признаке target (1 - заболевание обнаружено, 0 - нет)"
      ]
    },
    {
      "cell_type": "code",
      "execution_count": null,
      "metadata": {
        "id": "aq1sDM6SsRMI",
        "outputId": "8b16c591-fe3a-4f84-c766-2b4ba5278f99"
      },
      "outputs": [
        {
          "data": {
            "text/html": [
              "<div>\n",
              "<style scoped>\n",
              "    .dataframe tbody tr th:only-of-type {\n",
              "        vertical-align: middle;\n",
              "    }\n",
              "\n",
              "    .dataframe tbody tr th {\n",
              "        vertical-align: top;\n",
              "    }\n",
              "\n",
              "    .dataframe thead th {\n",
              "        text-align: right;\n",
              "    }\n",
              "</style>\n",
              "<table border=\"1\" class=\"dataframe\">\n",
              "  <thead>\n",
              "    <tr style=\"text-align: right;\">\n",
              "      <th></th>\n",
              "      <th>age</th>\n",
              "      <th>sex</th>\n",
              "      <th>cp</th>\n",
              "      <th>trestbps</th>\n",
              "      <th>chol</th>\n",
              "      <th>fbs</th>\n",
              "      <th>restecg</th>\n",
              "      <th>thalach</th>\n",
              "      <th>exang</th>\n",
              "      <th>oldpeak</th>\n",
              "      <th>slope</th>\n",
              "      <th>ca</th>\n",
              "      <th>thal</th>\n",
              "      <th>target</th>\n",
              "    </tr>\n",
              "  </thead>\n",
              "  <tbody>\n",
              "    <tr>\n",
              "      <th>0</th>\n",
              "      <td>63</td>\n",
              "      <td>1</td>\n",
              "      <td>3</td>\n",
              "      <td>145</td>\n",
              "      <td>233</td>\n",
              "      <td>1</td>\n",
              "      <td>0</td>\n",
              "      <td>150</td>\n",
              "      <td>0</td>\n",
              "      <td>2.3</td>\n",
              "      <td>0</td>\n",
              "      <td>0</td>\n",
              "      <td>1</td>\n",
              "      <td>1</td>\n",
              "    </tr>\n",
              "    <tr>\n",
              "      <th>1</th>\n",
              "      <td>37</td>\n",
              "      <td>1</td>\n",
              "      <td>2</td>\n",
              "      <td>130</td>\n",
              "      <td>250</td>\n",
              "      <td>0</td>\n",
              "      <td>1</td>\n",
              "      <td>187</td>\n",
              "      <td>0</td>\n",
              "      <td>3.5</td>\n",
              "      <td>0</td>\n",
              "      <td>0</td>\n",
              "      <td>2</td>\n",
              "      <td>1</td>\n",
              "    </tr>\n",
              "    <tr>\n",
              "      <th>2</th>\n",
              "      <td>41</td>\n",
              "      <td>0</td>\n",
              "      <td>1</td>\n",
              "      <td>130</td>\n",
              "      <td>204</td>\n",
              "      <td>0</td>\n",
              "      <td>0</td>\n",
              "      <td>172</td>\n",
              "      <td>0</td>\n",
              "      <td>1.4</td>\n",
              "      <td>2</td>\n",
              "      <td>0</td>\n",
              "      <td>2</td>\n",
              "      <td>1</td>\n",
              "    </tr>\n",
              "    <tr>\n",
              "      <th>3</th>\n",
              "      <td>56</td>\n",
              "      <td>1</td>\n",
              "      <td>1</td>\n",
              "      <td>120</td>\n",
              "      <td>236</td>\n",
              "      <td>0</td>\n",
              "      <td>1</td>\n",
              "      <td>178</td>\n",
              "      <td>0</td>\n",
              "      <td>0.8</td>\n",
              "      <td>2</td>\n",
              "      <td>0</td>\n",
              "      <td>2</td>\n",
              "      <td>1</td>\n",
              "    </tr>\n",
              "    <tr>\n",
              "      <th>4</th>\n",
              "      <td>57</td>\n",
              "      <td>0</td>\n",
              "      <td>0</td>\n",
              "      <td>120</td>\n",
              "      <td>354</td>\n",
              "      <td>0</td>\n",
              "      <td>1</td>\n",
              "      <td>163</td>\n",
              "      <td>1</td>\n",
              "      <td>0.6</td>\n",
              "      <td>2</td>\n",
              "      <td>0</td>\n",
              "      <td>2</td>\n",
              "      <td>1</td>\n",
              "    </tr>\n",
              "  </tbody>\n",
              "</table>\n",
              "</div>"
            ],
            "text/plain": [
              "   age  sex  cp  trestbps  chol  fbs  restecg  thalach  exang  oldpeak  slope  \\\n",
              "0   63    1   3       145   233    1        0      150      0      2.3      0   \n",
              "1   37    1   2       130   250    0        1      187      0      3.5      0   \n",
              "2   41    0   1       130   204    0        0      172      0      1.4      2   \n",
              "3   56    1   1       120   236    0        1      178      0      0.8      2   \n",
              "4   57    0   0       120   354    0        1      163      1      0.6      2   \n",
              "\n",
              "   ca  thal  target  \n",
              "0   0     1       1  \n",
              "1   0     2       1  \n",
              "2   0     2       1  \n",
              "3   0     2       1  \n",
              "4   0     2       1  "
            ]
          },
          "execution_count": 11,
          "metadata": {},
          "output_type": "execute_result"
        }
      ],
      "source": [
        "df = pd.read_csv('heart.csv')\n",
        "df.head()"
      ]
    },
    {
      "cell_type": "markdown",
      "metadata": {
        "id": "adVpn4NXZsDB"
      },
      "source": [
        "В первую очередь построим таблицу сопряженности:"
      ]
    },
    {
      "cell_type": "code",
      "execution_count": null,
      "metadata": {
        "id": "2tl8kB9YsVma",
        "outputId": "8a9ff337-064a-4615-e93a-730942e5351b"
      },
      "outputs": [
        {
          "data": {
            "text/html": [
              "<div>\n",
              "<style scoped>\n",
              "    .dataframe tbody tr th:only-of-type {\n",
              "        vertical-align: middle;\n",
              "    }\n",
              "\n",
              "    .dataframe tbody tr th {\n",
              "        vertical-align: top;\n",
              "    }\n",
              "\n",
              "    .dataframe thead th {\n",
              "        text-align: right;\n",
              "    }\n",
              "</style>\n",
              "<table border=\"1\" class=\"dataframe\">\n",
              "  <thead>\n",
              "    <tr style=\"text-align: right;\">\n",
              "      <th>target</th>\n",
              "      <th>0</th>\n",
              "      <th>1</th>\n",
              "    </tr>\n",
              "    <tr>\n",
              "      <th>sex</th>\n",
              "      <th></th>\n",
              "      <th></th>\n",
              "    </tr>\n",
              "  </thead>\n",
              "  <tbody>\n",
              "    <tr>\n",
              "      <th>0</th>\n",
              "      <td>24</td>\n",
              "      <td>72</td>\n",
              "    </tr>\n",
              "    <tr>\n",
              "      <th>1</th>\n",
              "      <td>114</td>\n",
              "      <td>93</td>\n",
              "    </tr>\n",
              "  </tbody>\n",
              "</table>\n",
              "</div>"
            ],
            "text/plain": [
              "target    0   1\n",
              "sex            \n",
              "0        24  72\n",
              "1       114  93"
            ]
          },
          "execution_count": 12,
          "metadata": {},
          "output_type": "execute_result"
        }
      ],
      "source": [
        "t = df.groupby('sex')['target'].value_counts().unstack()\n",
        "t"
      ]
    },
    {
      "cell_type": "markdown",
      "metadata": {
        "id": "jv_i6zcwaCWM"
      },
      "source": [
        "Теперь рассчитаем суммарное количество здоровых и больных, а также общую сумму:"
      ]
    },
    {
      "cell_type": "code",
      "execution_count": null,
      "metadata": {
        "id": "RJOAo4gTaIs7",
        "outputId": "f0c07986-2db8-40b5-e395-d46cbafeff4a"
      },
      "outputs": [
        {
          "name": "stdout",
          "output_type": "stream",
          "text": [
            "138 165 303\n"
          ]
        }
      ],
      "source": [
        "n_0 = t[0].sum()\n",
        "n_1 = t[1].sum()\n",
        "n_sum = n_0 + n_1\n",
        "print(n_0, n_1, n_sum)"
      ]
    },
    {
      "cell_type": "markdown",
      "metadata": {
        "id": "j6zd9Nlfaw2X"
      },
      "source": [
        "Рассчитаем доли:"
      ]
    },
    {
      "cell_type": "code",
      "execution_count": null,
      "metadata": {
        "id": "mJ07HcQwbFLO",
        "outputId": "ee3a7051-180e-4a89-b7e8-4c5e38b5ec73"
      },
      "outputs": [
        {
          "name": "stdout",
          "output_type": "stream",
          "text": [
            "0.45544554455445546 0.5445544554455446\n"
          ]
        }
      ],
      "source": [
        "p_0 = n_0 / n_sum\n",
        "p_1 = n_1 / n_sum\n",
        "print(p_0, p_1)"
      ]
    },
    {
      "cell_type": "markdown",
      "metadata": {
        "id": "5OjYDXPS9TRl"
      },
      "source": [
        "Рассчитаем суммарное количество мужчин и женщин:"
      ]
    },
    {
      "cell_type": "code",
      "execution_count": null,
      "metadata": {
        "id": "wQpYZbTq9TRm",
        "outputId": "115bd9ce-5248-4ecd-e170-76f5d847df2d"
      },
      "outputs": [
        {
          "name": "stdout",
          "output_type": "stream",
          "text": [
            "96 207\n"
          ]
        }
      ],
      "source": [
        "n_w = t.iloc[0].sum()\n",
        "n_m = t.iloc[1].sum()\n",
        "print(n_w, n_m)"
      ]
    },
    {
      "cell_type": "markdown",
      "metadata": {
        "id": "UERk44lQ9TRm"
      },
      "source": [
        "Рассчитываем ожидаемые в случае независимости признаков частоты для мужчин (здоровых и больных) и для женщин (здоровых и больных):"
      ]
    },
    {
      "cell_type": "code",
      "execution_count": null,
      "metadata": {
        "id": "KX7DXJ-A9TRn"
      },
      "outputs": [],
      "source": [
        "e0_women = n_w * p_0\n",
        "e1_women = n_w * p_1\n",
        "e0_men = n_m * p_0\n",
        "e1_men = n_m * p_1"
      ]
    },
    {
      "cell_type": "code",
      "execution_count": null,
      "metadata": {
        "id": "UEeTOwEH9TRn",
        "outputId": "819908d7-5b47-4b45-cc34-ed8fa1df8d91"
      },
      "outputs": [
        {
          "name": "stdout",
          "output_type": "stream",
          "text": [
            "43.722772277227726 52.27722772277228 94.27722772277228 112.72277227722773\n"
          ]
        }
      ],
      "source": [
        "print(e0_women, e1_women, e0_men, e1_men)"
      ]
    },
    {
      "cell_type": "markdown",
      "metadata": {
        "id": "J6lrnPvB9TRo"
      },
      "source": [
        "Составим таблицу ожидаемых частот:"
      ]
    },
    {
      "cell_type": "code",
      "execution_count": null,
      "metadata": {
        "id": "k7KG_mkg9TRo",
        "outputId": "f5f7461a-645b-4f50-c535-a1b3c4768d68"
      },
      "outputs": [
        {
          "data": {
            "text/plain": [
              "array([[ 43.72277228,  52.27722772],\n",
              "       [ 94.27722772, 112.72277228]])"
            ]
          },
          "execution_count": 18,
          "metadata": {},
          "output_type": "execute_result"
        }
      ],
      "source": [
        "t_e = np.array([[e0_women, e1_women], [e0_men, e1_men]])\n",
        "t_e"
      ]
    },
    {
      "cell_type": "markdown",
      "metadata": {
        "id": "6-QB_Bcu9TRo"
      },
      "source": [
        "Рассчитываем значение статистики:"
      ]
    },
    {
      "cell_type": "markdown",
      "metadata": {
        "id": "BFAOB9__9TRp"
      },
      "source": [
        "$\n",
        "\\chi^2 = \\sum{\\frac{(f_o - f_e)^2}{f_e}}\n",
        "$"
      ]
    },
    {
      "cell_type": "markdown",
      "metadata": {
        "id": "wHRs0RAG9TRp"
      },
      "source": [
        "В данной формуле $f_o$ - это наблюдаемые частоты, а $f_e$ - ожидаемые частоты"
      ]
    },
    {
      "cell_type": "code",
      "execution_count": null,
      "metadata": {
        "id": "bfTBIE0R9TRq",
        "outputId": "abd09f3d-e610-4065-e6fe-e642151bdeaf"
      },
      "outputs": [
        {
          "name": "stdout",
          "output_type": "stream",
          "text": [
            "23.914383914761984\n"
          ]
        }
      ],
      "source": [
        "chi_square = ((t - t_e)**2/t_e).sum().sum() #суммируем сначала по полу, потом в целом\n",
        "print(chi_square)"
      ]
    },
    {
      "cell_type": "markdown",
      "metadata": {
        "id": "vkppVBKO9TRq"
      },
      "source": [
        "Рассчитаем значение количества степей свободы:"
      ]
    },
    {
      "cell_type": "markdown",
      "metadata": {
        "id": "V9TCA4iY9TRq"
      },
      "source": [
        "$\n",
        "dof = (R - 1)(C - 1)\n",
        "$"
      ]
    },
    {
      "cell_type": "markdown",
      "metadata": {
        "id": "2LoCmEJT9TRq"
      },
      "source": [
        "В формуле R - количество строк нашей таблицы, а C - количество столбцов."
      ]
    },
    {
      "cell_type": "code",
      "execution_count": null,
      "metadata": {
        "id": "vSJRA_L19TRr",
        "outputId": "f813e57d-24cd-4131-fc98-f013a160ad4b"
      },
      "outputs": [
        {
          "data": {
            "text/plain": [
              "1"
            ]
          },
          "execution_count": 20,
          "metadata": {},
          "output_type": "execute_result"
        }
      ],
      "source": [
        "dof = (t.shape[0] - 1) * (t.shape[1] - 1)\n",
        "dof"
      ]
    },
    {
      "cell_type": "markdown",
      "metadata": {
        "id": "v_v_mEeC9TRr"
      },
      "source": [
        "_Примечание: количество степеней свободы - это количество значений в итоговом вычислении статистики, способных варьироваться. Смысл в том, что при разном значении степеней свободы будет меняться форма распределения статистик хи-квадрат. А значит и значения критерия, отсекающие определенную пропорцию распределения, будут варьироваться.(с)_"
      ]
    },
    {
      "cell_type": "code",
      "execution_count": null,
      "metadata": {
        "id": "vtfM6abQ9TRr",
        "outputId": "c6d18ff0-0360-4815-a822-0c2280a04f4e"
      },
      "outputs": [
        {
          "name": "stdout",
          "output_type": "stream",
          "text": [
            "1.0071642033704364e-06\n"
          ]
        }
      ],
      "source": [
        "pvalue = 1-stats.chi2.cdf(chi_square, df=1)\n",
        "print(pvalue)"
      ]
    },
    {
      "cell_type": "markdown",
      "metadata": {
        "id": "ZmTx172xhWsg"
      },
      "source": [
        "pvalue - вероятность получить значение статистики критерия равное наблюдаемому или более нетипичное по сравнению с наблюдаемым при условии, что нулевая гипотеза верна."
      ]
    },
    {
      "cell_type": "code",
      "execution_count": null,
      "metadata": {
        "id": "aDGUg9RfhWsg",
        "outputId": "9616d1ed-dfcf-42b1-ef7a-1e9b173d2e39"
      },
      "outputs": [
        {
          "data": {
            "text/plain": [
              "0.0"
            ]
          },
          "execution_count": 24,
          "metadata": {},
          "output_type": "execute_result"
        }
      ],
      "source": [
        "round(1.0071642033704364e-06, 4)"
      ]
    },
    {
      "cell_type": "markdown",
      "metadata": {
        "id": "R55zZLys9TRr"
      },
      "source": [
        "Можно было бы рассчитать и автоматически:"
      ]
    },
    {
      "cell_type": "code",
      "execution_count": null,
      "metadata": {
        "id": "5-C1dUFO9TRs",
        "outputId": "79f53b82-c9cd-4392-f54b-b5636df4956b"
      },
      "outputs": [
        {
          "data": {
            "text/plain": [
              "(23.914383914761988,\n",
              " 1.0071642033238865e-06,\n",
              " 1,\n",
              " array([[ 43.72277228,  52.27722772],\n",
              "        [ 94.27722772, 112.72277228]]))"
            ]
          },
          "execution_count": 22,
          "metadata": {},
          "output_type": "execute_result"
        }
      ],
      "source": [
        "stats.chi2_contingency(t, correction=False)"
      ]
    },
    {
      "cell_type": "markdown",
      "metadata": {
        "id": "Gu2TtWew9TRs"
      },
      "source": [
        "Время решить задачу самостоятельно! (ну почти)"
      ]
    },
    {
      "cell_type": "markdown",
      "metadata": {
        "id": "og2-eQGM9TRs"
      },
      "source": [
        "## Задача 2 (парадокс Симпсона)"
      ]
    },
    {
      "cell_type": "markdown",
      "metadata": {
        "id": "1twGW3mpSie-"
      },
      "source": [
        "Не забывайте, что мы должны не только уметь применять функции из библиотек, но еще надо понимать, какие действия с данными корректны, а какие нет.\n",
        "\n",
        "Перед вами результаты медицинских исследований. Из 1650 мужчин, испытывающих лекарство, выздоровели 770, из 223 не принимавших выздоровели 88. Из 245 принимавших женщин — 165, из 750 не принимавших — 440.\n",
        "\n",
        "Необходимо проверить следующее:\n",
        "1. Влияет ли лекарство на мужчин?\n",
        "2. Влияет ли лекарство на женщин? \n",
        "3. Влияет ли лекарство на людей обоих полов в целом?"
      ]
    },
    {
      "cell_type": "markdown",
      "metadata": {
        "id": "c3JGG5fsSjDZ"
      },
      "source": [
        "Запишем данные в аккуратную табличку. Пусть $A$ — принимавшие лекарство, $\\overline{A}$ — не принимавшие лекарство, $B$ — выздоровевшие, $\\overline{B}$ — не выздоровевшие."
      ]
    },
    {
      "cell_type": "markdown",
      "metadata": {
        "id": "bWAP1UjbSl4F"
      },
      "source": [
        "<!--<img width=\"60%\" src=\"pics/pic2.png\">-->\n",
        "<table>\n",
        "<tr><td>\n",
        "    \n",
        "|Мужчины| $B$ |  $\\overline{B}$|\n",
        "|--|--|--|\n",
        "|$A$| 770 | 880 |\n",
        "|$\\overline{A}$| 88 | 135 |\n",
        "\n",
        "</td><td>\n",
        "    \n",
        "|Женщины| $B$ |  $\\overline{B}$|\n",
        "|--|--|--|\n",
        "|$A$| 165 | 80 |\n",
        "|$\\overline{A}$| 440 | 310 |\n",
        "\n",
        "</td><td>\n",
        "\n",
        "|Вместе| $B$ |  $\\overline{B}$|\n",
        "|--|--|--|\n",
        "|$A$| 935 | 960 |\n",
        "|$\\overline{A}$| 528 | 445 |\n",
        "\n",
        "</td></tr> </table>"
      ]
    },
    {
      "cell_type": "markdown",
      "metadata": {
        "id": "ZAyR-iIXTKTT"
      },
      "source": [
        "### Есть ли эффект от лекарства у мужчин? "
      ]
    },
    {
      "cell_type": "markdown",
      "metadata": {
        "id": "OzEyylXGTLMW"
      },
      "source": [
        "Заметим, что среди принимавших лекарство мужчин доля выздоровевших больше, чем среди мужчин, не принимавших лекарство:\n",
        "\n",
        "$$\\frac{770}{770 + 880} \\approx 0.467 \\qquad > \\qquad 0.395 \\approx \\frac{88}{88 + 135}.$$\n",
        "  \n",
        "Проверим, значимо ли это различие."
      ]
    },
    {
      "cell_type": "code",
      "execution_count": null,
      "metadata": {
        "id": "giZCoa7yTnUd"
      },
      "outputs": [],
      "source": [
        "#создаем массивы для наших данных \n",
        "\n",
        "men = np.array([[770,880],[88,135]]) #частоты для мужчин\n",
        "women = np.array([[165,80],[440,310]]) #частоты для женщин\n",
        "both = men + women #складываем частоты для женщин и для мужчин, чтобы получить суммарные частоты"
      ]
    },
    {
      "cell_type": "code",
      "execution_count": null,
      "metadata": {
        "id": "9as5SQMHTNMg",
        "scrolled": true,
        "outputId": "8e585660-dc8e-4fea-8070-38ebe40c525e"
      },
      "outputs": [
        {
          "name": "stdout",
          "output_type": "stream",
          "text": [
            "statistic =  4.107854906463222\n",
            "p-value =  0.04268446899604583\n"
          ]
        }
      ],
      "source": [
        "# можно реализовать критерий вручную \n",
        "\n",
        "n = np.sum(men) # количество испытуемых среди мужчин\n",
        "n1,n2 = np.sum(men,axis=1) # количество испытуемых, принимавших и не принимавших лекарство среди мужчин\n",
        "p = np.sum(men,axis=0)/n # вероятности попасть в (B) и (not B)\n",
        "exmen = np.array([p*n1,p*n2]) # ожидаемые количества в каждой ячейке\n",
        "\n",
        "statistic = np.sum((men - exmen)**2/exmen) #рассчитываем значение статистики\n",
        "pvalue = 1-stats.chi2.cdf(statistic, df=1) #значение p-value\n",
        "\n",
        "print(\"statistic = \", statistic)\n",
        "print(\"p-value = \", pvalue)"
      ]
    },
    {
      "cell_type": "code",
      "execution_count": null,
      "metadata": {
        "id": "M8KbRS5TbZWP"
      },
      "outputs": [],
      "source": [
        "stats.chi2_contingency(men, correction=False)"
      ]
    },
    {
      "cell_type": "markdown",
      "metadata": {
        "id": "RdsdAh0i9TRv"
      },
      "source": [
        "### Есть ли эффект от лекарства у женщин? "
      ]
    },
    {
      "cell_type": "code",
      "execution_count": null,
      "metadata": {
        "id": "eOd4obAt9TRv",
        "scrolled": true
      },
      "outputs": [],
      "source": [
        "#YOUR CODE\n"
      ]
    },
    {
      "cell_type": "markdown",
      "metadata": {
        "id": "NZI3z-AL9TRv"
      },
      "source": [
        "Для женщин соответствующие доли равны $0.673>0.587$ - среди принимавших лекарство доля выздоровевших больше, чем среди не принимавших лекарство, различия значимы."
      ]
    },
    {
      "cell_type": "markdown",
      "metadata": {
        "id": "muXDpaVlyuz8"
      },
      "source": [
        "### Есть ли эффект от лекарства у мужчин и женщин вместе? "
      ]
    },
    {
      "cell_type": "code",
      "execution_count": null,
      "metadata": {
        "id": "FwWLikWny23X"
      },
      "outputs": [],
      "source": [
        "# YOUR CODE\n"
      ]
    },
    {
      "cell_type": "markdown",
      "metadata": {
        "id": "YmtCZjShyzpO"
      },
      "source": [
        "Как это ни странно, из таблицы с объединенными результатами следует, что доля выздоровевших больше среди тех людей, которые лекарство **не принимали**:\n",
        "\n",
        "$$\\frac{935}{935+960} \\approx 0.493 \\qquad < \\qquad 0.542 \\approx \\frac{528}{528+445}.$$\n",
        "  "
      ]
    },
    {
      "cell_type": "markdown",
      "metadata": {
        "id": "WtyiiuXl7fE-"
      },
      "source": [
        "Может произойти такая ситуация, что новое лекарство может оказаться эффективным в каждом из отдельных исследований, на каждой отдельной группе, но объединение результатов укажет на то, что это лекарство либо бесполезно, либо вредно. Проблема здесь в том, что объединять эти выборки просто слив данные вместе нельзя: контрольные группы (не принимавших лекарство) занимают разный объем от выборок -- примерно 12% в случае мужчин и 75% в случае женщин."
      ]
    }
  ],
  "metadata": {
    "colab": {
      "provenance": [],
      "include_colab_link": true
    },
    "kernelspec": {
      "display_name": "Python 3",
      "language": "python",
      "name": "python3"
    },
    "language_info": {
      "codemirror_mode": {
        "name": "ipython",
        "version": 3
      },
      "file_extension": ".py",
      "mimetype": "text/x-python",
      "name": "python",
      "nbconvert_exporter": "python",
      "pygments_lexer": "ipython3",
      "version": "3.7.4"
    }
  },
  "nbformat": 4,
  "nbformat_minor": 0
}